{
 "cells": [
  {
   "cell_type": "code",
   "execution_count": 55,
   "metadata": {},
   "outputs": [],
   "source": [
    "import matplotlib\n",
    "import matplotlib.pyplot as plt\n",
    "import numpy as np\n",
    "import pandas as pd\n",
    "from datetime import datetime\n",
    "\n",
    "from libcomcat.dataframes import get_phase_dataframe, get_magnitude_data_frame, get_detail_data_frame\n",
    "from libcomcat.search import get_event_by_id\n",
    "from libcomcat.search import search"
   ]
  },
  {
   "cell_type": "code",
   "execution_count": 56,
   "metadata": {},
   "outputs": [],
   "source": [
    "eventid = 'nc73201181'\n",
    "detail = get_event_by_id(eventid, includesuperseded=True)"
   ]
  },
  {
   "cell_type": "code",
   "execution_count": 57,
   "metadata": {},
   "outputs": [
    {
     "name": "stdout",
     "output_type": "stream",
     "text": [
      "            Channel  Distance  Azimuth Phase            Arrival Time  \\\n",
      "0       NC.KCO.EHZ.   0.03116    122.6     P 2019-06-23 03:53:05.220   \n",
      "1       NC.KCO.HNE.   0.03116    122.6     S 2019-06-23 03:53:07.190   \n",
      "2    BK.PETL.HHZ.00   0.03561    294.9     P 2019-06-23 03:53:05.010   \n",
      "3    BK.PETL.HNN.00   0.03561    294.9     S 2019-06-23 03:53:06.770   \n",
      "4     CE.89101.HNZ.   0.05234     10.6     P 2019-06-23 03:53:05.100   \n",
      "..              ...       ...      ...   ...                     ...   \n",
      "402    UW.LKVW.EHZ.   3.54700     55.0     P 2019-06-23 03:53:57.100   \n",
      "403     WR.BKW.EHZ.   3.01000     98.0     P 2019-06-23 03:53:50.690   \n",
      "404     WR.HUF.EHZ.   2.62600     94.0     P 2019-06-23 03:53:45.530   \n",
      "405     WR.KPK.EHZ.   2.40400    105.0     P 2019-06-23 03:53:40.760   \n",
      "406     WR.SLD.EHZ.   4.00600    142.0     P 2019-06-23 03:54:02.900   \n",
      "\n",
      "        Status  Residual  Weight Agency  \n",
      "0       manual      0.10    0.19     NC  \n",
      "1       manual      0.33    0.04     NC  \n",
      "2       manual     -0.06    0.19     NC  \n",
      "3       manual      0.00    0.10     NC  \n",
      "4       manual     -0.15    0.19     NC  \n",
      "..         ...       ...     ...    ...  \n",
      "402  automatic      0.13    0.00     NC  \n",
      "403  automatic      1.28    0.00     NC  \n",
      "404  automatic      1.52    0.00     NC  \n",
      "405  automatic     -1.57    0.00     NC  \n",
      "406  automatic     -0.54    0.00     NC  \n",
      "\n",
      "[407 rows x 9 columns]\n"
     ]
    }
   ],
   "source": [
    "print(get_phase_dataframe(detail))"
   ]
  },
  {
   "cell_type": "code",
   "execution_count": 58,
   "metadata": {},
   "outputs": [
    {
     "name": "stdout",
     "output_type": "stream",
     "text": [
      "            Channel Type  Amplitude  Period     Status  Magnitude  Weight  \\\n",
      "0     NC.AFD.HHE.--   ML   0.000005   2.170  automatic       5.04     0.0   \n",
      "1     NC.AFD.HHN.--   ML   0.000006   2.020  automatic       5.08     0.0   \n",
      "2     UW.BBO.HHE.--   ML   0.000011   1.510  automatic       5.33     1.0   \n",
      "3     UW.BBO.HHN.--   ML   0.000008   2.390  automatic       5.19     0.0   \n",
      "4    UO.BEER.HHE.--   ML   0.000007   3.040  automatic       5.50     1.0   \n",
      "..              ...  ...        ...     ...        ...        ...     ...   \n",
      "111  US.WVOR.BH2.00   ML   0.000002   4.250  automatic       5.25     0.0   \n",
      "112  UO.WYLD.HHE.--   ML   0.000015   2.200  automatic       5.50     1.0   \n",
      "113  UO.WYLD.HHN.--   ML   0.000010   2.070  automatic       5.34     1.0   \n",
      "114   BK.YBH.BHE.00   ML   0.000013   4.750  automatic       5.00     0.0   \n",
      "115   BK.YBH.BHN.00   ML   0.000015   2.525  automatic       5.05     0.0   \n",
      "\n",
      "     Distance  Azimuth         MeasurementTime  \n",
      "0         NaN      NaN 2019-06-23 03:55:13.330  \n",
      "1         NaN      NaN 2019-06-23 03:54:44.280  \n",
      "2         NaN      NaN 2019-06-23 03:54:53.700  \n",
      "3         NaN      NaN 2019-06-23 03:54:54.670  \n",
      "4         NaN      NaN 2019-06-23 03:55:45.750  \n",
      "..        ...      ...                     ...  \n",
      "111       NaN      NaN 2019-06-23 03:56:16.930  \n",
      "112       NaN      NaN 2019-06-23 03:54:58.540  \n",
      "113       NaN      NaN 2019-06-23 03:55:03.140  \n",
      "114       NaN      NaN 2019-06-23 03:54:14.065  \n",
      "115       NaN      NaN 2019-06-23 03:54:14.090  \n",
      "\n",
      "[116 rows x 10 columns]\n"
     ]
    }
   ],
   "source": [
    "print(get_magnitude_data_frame(detail, catalog=\"us\", magtype=\"ml\"))"
   ]
  },
  {
   "cell_type": "code",
   "execution_count": 59,
   "metadata": {},
   "outputs": [],
   "source": [
    "summary_events = search(starttime=datetime(1994, 1, 17, 12, 30), endtime=datetime(1994, 1, 18, 12, 35),\n",
    "                   maxradiuskm=2, latitude=34.213, longitude=-118.537)\n",
    "detail_df = get_detail_data_frame(summary_events)"
   ]
  },
  {
   "cell_type": "code",
   "execution_count": 60,
   "metadata": {},
   "outputs": [],
   "source": [
    "origins_phase = detail.getProducts('phase-data', source='us', version='all')"
   ]
  },
  {
   "cell_type": "code",
   "execution_count": 46,
   "metadata": {},
   "outputs": [],
   "source": [
    "origins_fc = detail.getProducts('focal-mechanism')"
   ]
  },
  {
   "cell_type": "code",
   "execution_count": 76,
   "metadata": {},
   "outputs": [
    {
     "name": "stdout",
     "output_type": "stream",
     "text": [
      "beachball-source NC\n",
      "depth 9.44\n",
      "evaluation-status preliminary\n",
      "eventParametersPublicID quakeml:nc.anss.org/Event/NC/73201181#156127378353\n",
      "eventsource nc\n",
      "eventsourcecode 73201181\n",
      "eventtime 2019-06-23T03:53:02.890Z\n",
      "latitude 40.2735\n",
      "longitude -124.3003333\n",
      "nodal-plane-1-dip 70.0\n",
      "nodal-plane-1-rake 170.0\n",
      "nodal-plane-1-strike 105.0\n",
      "nodal-plane-2-dip 81.0\n",
      "nodal-plane-2-rake 20.0\n",
      "nodal-plane-2-strike 198.0\n",
      "num-stations-used 117\n",
      "original-eventsource nc\n",
      "original-eventsourcecode 73201181\n",
      "original-signature MCwCFD0saPZumbu8i5M0ho8oLi+3Gk5hAhRL22TV0IesGzO6OYN4vyB6wSl+fA==\n",
      "original-signature-version v1\n",
      "pdl-client-version Version 1.14.1 2018-04-26\n",
      "quakeml-publicid quakeml:nc.anss.org/Mec/NC/1731909\n",
      "review-status automatic\n"
     ]
    }
   ],
   "source": [
    "for origin in origins_fc:\n",
    "    for k in origin.properties:\n",
    "        print(k, origin[k])"
   ]
  }
 ],
 "metadata": {
  "kernelspec": {
   "display_name": "comcat",
   "language": "python",
   "name": "python3"
  },
  "language_info": {
   "codemirror_mode": {
    "name": "ipython",
    "version": 3
   },
   "file_extension": ".py",
   "mimetype": "text/x-python",
   "name": "python",
   "nbconvert_exporter": "python",
   "pygments_lexer": "ipython3",
   "version": "3.8.15"
  },
  "orig_nbformat": 4,
  "vscode": {
   "interpreter": {
    "hash": "7b43c5312267192322fd95d3ee68862685d033482b4955328bf4db877288652a"
   }
  }
 },
 "nbformat": 4,
 "nbformat_minor": 2
}
