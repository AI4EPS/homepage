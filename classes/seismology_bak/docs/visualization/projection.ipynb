{
 "cells": [
  {
   "cell_type": "markdown",
   "id": "c1cb0f27-61de-4483-bcbe-ced4f24c3cc3",
   "metadata": {},
   "source": [
    "# Coordinate Transformation \n",
    "\n",
    "In many seismic studies, we only work on a small area of few degrees, converting **lat/lon** to **x/y** coordinates is much easier for data analysis. Here are examples to use [pyproj](https://pyproj4.github.io/pyproj/stable/examples.html) for cartographic projections.\n",
    "\n",
    "The Mercator projection ([merc](https://proj.org/operations/projections/merc.html)) is commonly used for plotting maps.\n",
    "\n",
    "For simple projection purpose, we will mainly use local projections, such as Stereographic projection ([stere](https://proj.org/operations/projections/stere.html)), Oblique Stereographic Alternative projection ([sterea](https://proj.org/operations/projections/sterea.html?highlight=sterea)), and Gnomonic projection ([gnom](https://proj.org/operations/projections/gnom.html?highlight=gnom)).\n",
    "\n",
    "An overview of different projection views can also be found in [cartopy](https://scitools.org.uk/cartopy/docs/latest/reference/projections.html)"
   ]
  },
  {
   "cell_type": "code",
   "execution_count": 1,
   "id": "26d5092c-e602-434f-8f33-2c761042d030",
   "metadata": {
    "execution": {
     "iopub.execute_input": "2022-06-28T21:22:25.385249Z",
     "iopub.status.busy": "2022-06-28T21:22:25.384159Z",
     "iopub.status.idle": "2022-06-28T21:22:25.428242Z",
     "shell.execute_reply": "2022-06-28T21:22:25.427892Z",
     "shell.execute_reply.started": "2022-06-28T21:22:25.384955Z"
    },
    "tags": []
   },
   "outputs": [],
   "source": [
    "from pyproj import Proj\n",
    "lat0 = 36.20\n",
    "lon0 = -138.25\n",
    "R = 6371.0 * 1e3 #km"
   ]
  },
  {
   "cell_type": "code",
   "execution_count": 2,
   "id": "c85f7b2a-1db2-4049-b601-dece61d251ad",
   "metadata": {
    "execution": {
     "iopub.execute_input": "2022-06-28T21:22:25.428820Z",
     "iopub.status.busy": "2022-06-28T21:22:25.428729Z",
     "iopub.status.idle": "2022-06-28T21:22:25.432960Z",
     "shell.execute_reply": "2022-06-28T21:22:25.432647Z",
     "shell.execute_reply.started": "2022-06-28T21:22:25.428809Z"
    },
    "tags": []
   },
   "outputs": [
    {
     "name": "stdout",
     "output_type": "stream",
     "text": [
      "x = 88.58, y = 111.66\n",
      "lon = 37.20, lat = -137.25\n"
     ]
    }
   ],
   "source": [
    "proj = Proj(f\"+proj=sterea +lat_0={lat0} +lon_0={lon0} +R={R} +units=km\")\n",
    "x,y = proj(longitude=lon0+1, latitude=lat0+1)\n",
    "print(f\"x = {x:.2f}, y = {y:.2f}\")\n",
    "lat, lon = proj(longitude=x, latitude=y, inverse=True)\n",
    "print(f\"lon = {lon:.2f}, lat = {lat:.2f}\")"
   ]
  },
  {
   "cell_type": "code",
   "execution_count": 3,
   "id": "29afb7eb-2602-4202-8714-2712d84c1066",
   "metadata": {
    "execution": {
     "iopub.execute_input": "2022-06-28T21:22:25.434626Z",
     "iopub.status.busy": "2022-06-28T21:22:25.434408Z",
     "iopub.status.idle": "2022-06-28T21:22:25.438300Z",
     "shell.execute_reply": "2022-06-28T21:22:25.437909Z",
     "shell.execute_reply.started": "2022-06-28T21:22:25.434610Z"
    },
    "tags": []
   },
   "outputs": [
    {
     "name": "stdout",
     "output_type": "stream",
     "text": [
      "x = 88.58, y = 111.66\n",
      "lon = 37.20, lat = -137.25\n"
     ]
    }
   ],
   "source": [
    "proj = Proj(f\"+proj=stere +lat_0={lat0} +lon_0={lon0} +R={R} +units=km\")\n",
    "x,y = proj(longitude=lon0+1, latitude=lat0+1)\n",
    "print(f\"x = {x:.2f}, y = {y:.2f}\")\n",
    "lat, lon = proj(longitude=x, latitude=y, inverse=True)\n",
    "print(f\"lon = {lon:.2f}, lat = {lat:.2f}\")"
   ]
  },
  {
   "cell_type": "code",
   "execution_count": 4,
   "id": "d1e13947-d759-4be2-89b0-62e944456d5e",
   "metadata": {
    "execution": {
     "iopub.execute_input": "2022-06-28T21:22:25.439011Z",
     "iopub.status.busy": "2022-06-28T21:22:25.438923Z",
     "iopub.status.idle": "2022-06-28T21:22:25.442780Z",
     "shell.execute_reply": "2022-06-28T21:22:25.442363Z",
     "shell.execute_reply.started": "2022-06-28T21:22:25.439000Z"
    },
    "tags": []
   },
   "outputs": [
    {
     "name": "stdout",
     "output_type": "stream",
     "text": [
      "x = 88.59, y = 111.67\n",
      "lon = 37.20, lat = -137.25\n"
     ]
    }
   ],
   "source": [
    "proj = Proj(f\"+proj=gnom +lat_0={lat0} +lon_0={lon0} +R={R} +units=km\")\n",
    "x,y = proj(longitude=lon0+1, latitude=lat0+1)\n",
    "print(f\"x = {x:.2f}, y = {y:.2f}\")\n",
    "lat, lon = proj(longitude=x, latitude=y, inverse=True)\n",
    "print(f\"lon = {lon:.2f}, lat = {lat:.2f}\")"
   ]
  },
  {
   "cell_type": "code",
   "execution_count": 5,
   "id": "9775eef8-da6c-4a27-aa77-7895d22e2da0",
   "metadata": {
    "execution": {
     "iopub.execute_input": "2022-06-28T21:22:25.443362Z",
     "iopub.status.busy": "2022-06-28T21:22:25.443287Z",
     "iopub.status.idle": "2022-06-28T21:22:25.457300Z",
     "shell.execute_reply": "2022-06-28T21:22:25.456522Z",
     "shell.execute_reply.started": "2022-06-28T21:22:25.443352Z"
    },
    "tags": []
   },
   "outputs": [
    {
     "name": "stdout",
     "output_type": "stream",
     "text": [
      "x = 111.19, y = 4462.02\n",
      "lon = 37.20, lat = -137.25\n"
     ]
    }
   ],
   "source": [
    "proj = Proj(f\"+proj=merc +lon_0={lon0} +R={R} +units=km\")\n",
    "x,y = proj(longitude=lon0+1, latitude=lat0+1)\n",
    "print(f\"x = {x:.2f}, y = {y:.2f}\")\n",
    "lat, lon = proj(longitude=x, latitude=y, inverse=True)\n",
    "print(f\"lon = {lon:.2f}, lat = {lat:.2f}\")"
   ]
  }
 ],
 "metadata": {
  "kernelspec": {
   "display_name": "Python 3 (ipykernel)",
   "language": "python",
   "name": "python3"
  },
  "language_info": {
   "codemirror_mode": {
    "name": "ipython",
    "version": 3
   },
   "file_extension": ".py",
   "mimetype": "text/x-python",
   "name": "python",
   "nbconvert_exporter": "python",
   "pygments_lexer": "ipython3",
   "version": "3.8.11"
  }
 },
 "nbformat": 4,
 "nbformat_minor": 5
}
